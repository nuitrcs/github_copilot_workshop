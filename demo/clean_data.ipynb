{
 "cells": [
  {
   "cell_type": "markdown",
   "metadata": {},
   "source": [
    "# Notebook to clean Reddit data about meditation\n",
    "\n",
    "## Loading libraries"
   ]
  },
  {
   "cell_type": "code",
   "execution_count": 1,
   "metadata": {},
   "outputs": [
    {
     "name": "stdout",
     "output_type": "stream",
     "text": [
      "All tests for remove_urls function passed.\n"
     ]
    },
    {
     "name": "stderr",
     "output_type": "stream",
     "text": [
      "[nltk_data] Downloading package punkt to\n",
      "[nltk_data]     /Users/emiliolehoucq/nltk_data...\n",
      "[nltk_data]   Package punkt is already up-to-date!\n",
      "[nltk_data] Downloading package stopwords to\n",
      "[nltk_data]     /Users/emiliolehoucq/nltk_data...\n",
      "[nltk_data]   Package stopwords is already up-to-date!\n",
      "[nltk_data] Downloading package wordnet to\n",
      "[nltk_data]     /Users/emiliolehoucq/nltk_data...\n",
      "[nltk_data]   Package wordnet is already up-to-date!\n"
     ]
    }
   ],
   "source": [
    "import pandas as pd\n",
    "import functions_to_clean_data"
   ]
  },
  {
   "cell_type": "markdown",
   "metadata": {},
   "source": [
    "## Read data"
   ]
  },
  {
   "cell_type": "code",
   "execution_count": 2,
   "metadata": {},
   "outputs": [],
   "source": [
    "df  = pd.read_csv(\"https://raw.githubusercontent.com/emiliolehoucq/mindfulness/main/reddit_data_raw_4_17_2024.csv\")"
   ]
  },
  {
   "cell_type": "markdown",
   "metadata": {},
   "source": [
    "## Taking a look at the data"
   ]
  },
  {
   "cell_type": "code",
   "execution_count": 3,
   "metadata": {},
   "outputs": [
    {
     "data": {
      "text/html": [
       "<div>\n",
       "<style scoped>\n",
       "    .dataframe tbody tr th:only-of-type {\n",
       "        vertical-align: middle;\n",
       "    }\n",
       "\n",
       "    .dataframe tbody tr th {\n",
       "        vertical-align: top;\n",
       "    }\n",
       "\n",
       "    .dataframe thead th {\n",
       "        text-align: right;\n",
       "    }\n",
       "</style>\n",
       "<table border=\"1\" class=\"dataframe\">\n",
       "  <thead>\n",
       "    <tr style=\"text-align: right;\">\n",
       "      <th></th>\n",
       "      <th>Unnamed: 0</th>\n",
       "      <th>subreddit</th>\n",
       "      <th>author</th>\n",
       "      <th>comments</th>\n",
       "      <th>created_utc</th>\n",
       "      <th>is_self</th>\n",
       "      <th>name</th>\n",
       "      <th>num_comments</th>\n",
       "      <th>permalink</th>\n",
       "      <th>score</th>\n",
       "      <th>selftext</th>\n",
       "      <th>stickied</th>\n",
       "      <th>title</th>\n",
       "      <th>upvote_ratio</th>\n",
       "      <th>url</th>\n",
       "    </tr>\n",
       "  </thead>\n",
       "  <tbody>\n",
       "    <tr>\n",
       "      <th>0</th>\n",
       "      <td>0</td>\n",
       "      <td>Meditation</td>\n",
       "      <td>AutoModerator</td>\n",
       "      <td>&lt;praw.models.comment_forest.CommentForest obje...</td>\n",
       "      <td>1.711930e+09</td>\n",
       "      <td>True</td>\n",
       "      <td>t3_1bsp5fq</td>\n",
       "      <td>14</td>\n",
       "      <td>/r/Meditation/comments/1bsp5fq/monthly_meditat...</td>\n",
       "      <td>13</td>\n",
       "      <td>Hello friends,\\n\\nReady to make meditation a h...</td>\n",
       "      <td>True</td>\n",
       "      <td>Monthly Meditation Challenge - April 2024</td>\n",
       "      <td>0.93</td>\n",
       "      <td>https://www.reddit.com/r/Meditation/comments/1...</td>\n",
       "    </tr>\n",
       "    <tr>\n",
       "      <th>1</th>\n",
       "      <td>1</td>\n",
       "      <td>Meditation</td>\n",
       "      <td>ThekzyV2</td>\n",
       "      <td>&lt;praw.models.comment_forest.CommentForest obje...</td>\n",
       "      <td>1.713358e+09</td>\n",
       "      <td>True</td>\n",
       "      <td>t3_1c68vxk</td>\n",
       "      <td>14</td>\n",
       "      <td>/r/Meditation/comments/1c68vxk/as_much_as_we_t...</td>\n",
       "      <td>26</td>\n",
       "      <td>I would say, as a radical, that all the stuff ...</td>\n",
       "      <td>False</td>\n",
       "      <td>As much as we trust our parents, theyve taught...</td>\n",
       "      <td>0.84</td>\n",
       "      <td>https://www.reddit.com/r/Meditation/comments/1...</td>\n",
       "    </tr>\n",
       "    <tr>\n",
       "      <th>2</th>\n",
       "      <td>2</td>\n",
       "      <td>Meditation</td>\n",
       "      <td>opensourceartwork</td>\n",
       "      <td>&lt;praw.models.comment_forest.CommentForest obje...</td>\n",
       "      <td>1.713350e+09</td>\n",
       "      <td>True</td>\n",
       "      <td>t3_1c66kfx</td>\n",
       "      <td>202</td>\n",
       "      <td>/r/Meditation/comments/1c66kfx/i_had_a_friend_...</td>\n",
       "      <td>30</td>\n",
       "      <td>Curious to hear y'alls opinion?\\n\\nEDIT: I gue...</td>\n",
       "      <td>False</td>\n",
       "      <td>I had a friend tell me mediation is brainwashi...</td>\n",
       "      <td>0.63</td>\n",
       "      <td>https://www.reddit.com/r/Meditation/comments/1...</td>\n",
       "    </tr>\n",
       "    <tr>\n",
       "      <th>3</th>\n",
       "      <td>3</td>\n",
       "      <td>Meditation</td>\n",
       "      <td>Grox213</td>\n",
       "      <td>&lt;praw.models.comment_forest.CommentForest obje...</td>\n",
       "      <td>1.713357e+09</td>\n",
       "      <td>True</td>\n",
       "      <td>t3_1c68hsk</td>\n",
       "      <td>18</td>\n",
       "      <td>/r/Meditation/comments/1c68hsk/what_do_the_mon...</td>\n",
       "      <td>13</td>\n",
       "      <td>Monks say that THERE is a right way to meditat...</td>\n",
       "      <td>False</td>\n",
       "      <td>What do the monks say?</td>\n",
       "      <td>0.84</td>\n",
       "      <td>https://www.reddit.com/r/Meditation/comments/1...</td>\n",
       "    </tr>\n",
       "    <tr>\n",
       "      <th>4</th>\n",
       "      <td>4</td>\n",
       "      <td>Meditation</td>\n",
       "      <td>littleb1rd_</td>\n",
       "      <td>&lt;praw.models.comment_forest.CommentForest obje...</td>\n",
       "      <td>1.713369e+09</td>\n",
       "      <td>True</td>\n",
       "      <td>t3_1c6d4gq</td>\n",
       "      <td>7</td>\n",
       "      <td>/r/Meditation/comments/1c6d4gq/im_a_skeptic_bu...</td>\n",
       "      <td>7</td>\n",
       "      <td>this happened several years ago but i just rem...</td>\n",
       "      <td>False</td>\n",
       "      <td>im a skeptic but tried past life regression an...</td>\n",
       "      <td>0.89</td>\n",
       "      <td>https://www.reddit.com/r/Meditation/comments/1...</td>\n",
       "    </tr>\n",
       "  </tbody>\n",
       "</table>\n",
       "</div>"
      ],
      "text/plain": [
       "   Unnamed: 0   subreddit             author  \\\n",
       "0           0  Meditation      AutoModerator   \n",
       "1           1  Meditation           ThekzyV2   \n",
       "2           2  Meditation  opensourceartwork   \n",
       "3           3  Meditation            Grox213   \n",
       "4           4  Meditation        littleb1rd_   \n",
       "\n",
       "                                            comments   created_utc  is_self  \\\n",
       "0  <praw.models.comment_forest.CommentForest obje...  1.711930e+09     True   \n",
       "1  <praw.models.comment_forest.CommentForest obje...  1.713358e+09     True   \n",
       "2  <praw.models.comment_forest.CommentForest obje...  1.713350e+09     True   \n",
       "3  <praw.models.comment_forest.CommentForest obje...  1.713357e+09     True   \n",
       "4  <praw.models.comment_forest.CommentForest obje...  1.713369e+09     True   \n",
       "\n",
       "         name  num_comments  \\\n",
       "0  t3_1bsp5fq            14   \n",
       "1  t3_1c68vxk            14   \n",
       "2  t3_1c66kfx           202   \n",
       "3  t3_1c68hsk            18   \n",
       "4  t3_1c6d4gq             7   \n",
       "\n",
       "                                           permalink  score  \\\n",
       "0  /r/Meditation/comments/1bsp5fq/monthly_meditat...     13   \n",
       "1  /r/Meditation/comments/1c68vxk/as_much_as_we_t...     26   \n",
       "2  /r/Meditation/comments/1c66kfx/i_had_a_friend_...     30   \n",
       "3  /r/Meditation/comments/1c68hsk/what_do_the_mon...     13   \n",
       "4  /r/Meditation/comments/1c6d4gq/im_a_skeptic_bu...      7   \n",
       "\n",
       "                                            selftext  stickied  \\\n",
       "0  Hello friends,\\n\\nReady to make meditation a h...      True   \n",
       "1  I would say, as a radical, that all the stuff ...     False   \n",
       "2  Curious to hear y'alls opinion?\\n\\nEDIT: I gue...     False   \n",
       "3  Monks say that THERE is a right way to meditat...     False   \n",
       "4  this happened several years ago but i just rem...     False   \n",
       "\n",
       "                                               title  upvote_ratio  \\\n",
       "0          Monthly Meditation Challenge - April 2024          0.93   \n",
       "1  As much as we trust our parents, theyve taught...          0.84   \n",
       "2  I had a friend tell me mediation is brainwashi...          0.63   \n",
       "3                             What do the monks say?          0.84   \n",
       "4  im a skeptic but tried past life regression an...          0.89   \n",
       "\n",
       "                                                 url  \n",
       "0  https://www.reddit.com/r/Meditation/comments/1...  \n",
       "1  https://www.reddit.com/r/Meditation/comments/1...  \n",
       "2  https://www.reddit.com/r/Meditation/comments/1...  \n",
       "3  https://www.reddit.com/r/Meditation/comments/1...  \n",
       "4  https://www.reddit.com/r/Meditation/comments/1...  "
      ]
     },
     "execution_count": 3,
     "metadata": {},
     "output_type": "execute_result"
    }
   ],
   "source": [
    "df.head()"
   ]
  },
  {
   "cell_type": "markdown",
   "metadata": {},
   "source": [
    "## Taking a look at the columns to clean"
   ]
  },
  {
   "cell_type": "code",
   "execution_count": 4,
   "metadata": {},
   "outputs": [
    {
     "name": "stdout",
     "output_type": "stream",
     "text": [
      "Monthly Meditation Challenge - April 2024\n",
      "=====================================\n",
      "As much as we trust our parents, theyve taught us badly some bullshit things\n",
      "=====================================\n",
      "I had a friend tell me mediation is brainwashing. Is there any extent to which you would agree, if so, why?\n",
      "=====================================\n",
      "What do the monks say?\n",
      "=====================================\n",
      "im a skeptic but tried past life regression anyway and actually saw something\n",
      "=====================================\n"
     ]
    }
   ],
   "source": [
    "for i, row in df.head(5).iterrows():\n",
    "    print(row['title'])\n",
    "    print(\"=====================================\")"
   ]
  },
  {
   "cell_type": "code",
   "execution_count": 5,
   "metadata": {},
   "outputs": [
    {
     "name": "stdout",
     "output_type": "stream",
     "text": [
      "Hello friends,\n",
      "\n",
      "Ready to make meditation a habit in your life? Or maybe you're looking to start again?\n",
      "\n",
      "Each month, we host a meditation challenge to help you establish or rekindle a consistent meditation practice by making it a part of your daily routine. By participating in the challenge, you'll be fostering a greater sense of community as you work toward a common goal and keep each other accountable.\n",
      "\n",
      "**How to Participate**\n",
      "\n",
      "\\- **Set a specific, measurable, and realistic goal for the month.**\n",
      "\n",
      ">How many days per week will you meditate? How long will each session be? What technique will you use? Post below if you need help deciding!\n",
      "\n",
      "\\- **Leave a comment below to let others know you'll be participating.**\n",
      "\n",
      ">For extra accountability, leave a comment that says, \"Accountability partner needed.\" Once someone responds, coordinate with that person to find a way to keep each other accountable.\n",
      "\n",
      "\\- **Optionally, join the challenge on our partner Discord server,** [**Meditation Mind**](https://discord.gg/meditationmind)**.**\n",
      "\n",
      ">Challenges are held concurrently on the r/Meditation partner Discord server, [Meditation Mind](https://discord.gg/meditationmind). Enjoy a wholesome, welcoming atmosphere, home to a community of over 8,100 members.\n",
      "\n",
      "Good luck, and may your practice be fruitful!\n",
      "=====================================\n",
      "I would say, as a radical, that all the stuff your parents ensured you were prepared with. Like being worried about this and afraid about that. Is nonsense.\n",
      "\n",
      "&#x200B;\n",
      "\n",
      "You could challenge every single and basic assumption you take for granted. As a society we wear pants. My goodness how we start to identify as pants. \n",
      "\n",
      "&#x200B;\n",
      "\n",
      "What preconceptions are you preconceiving today? \n",
      "\n",
      "&#x200B;\n",
      "\n",
      "If you ask me, all of them are in a sense, limited by comparison to the fullness of da life.\n",
      "\n",
      "&#x200B;\n",
      "\n",
      "Mwuah!\n",
      "=====================================\n",
      "Curious to hear y'alls opinion?\n",
      "\n",
      "EDIT: I guess you would not know if you are being brainwashed, since that is the whole idea of successful brainwashing.\n",
      "=====================================\n",
      "Monks say that THERE is a right way to meditate. While usually Westerners say, \"there's no right way to meditate, do what you like\". I'm not asking about which you believe. Rather:\n",
      "\n",
      "I'm curious, what are the monks actually teaching? Is there someone who actually was at an temple and learned from a monk? What was something they treated as, \"you must do this, if you don't, then you're not doing it right\"? What was important to the practice of meditation? Especially for beginners of course.\n",
      "=====================================\n",
      "this happened several years ago but i just remembered about it. i meditated for a good hour and a half before actually seeing something and it felt like i was really there. i suddenly had so many memories and i met people that i just knew for some reason and i died in the end. i know i wasn't sleeping though because i was crying so much that my tears would push my eyes open and i was fully awake. i cried for an hour afterwards because it felt so real to me.\n",
      "\n",
      "what the hell did i experience. was i hallucinating or is it actually real. thoughts? \n",
      "=====================================\n"
     ]
    }
   ],
   "source": [
    "for i, row in df.head(5).iterrows():\n",
    "    print(row['selftext'])\n",
    "    print(\"=====================================\")"
   ]
  },
  {
   "cell_type": "markdown",
   "metadata": {},
   "source": [
    "## Cleaning the data"
   ]
  },
  {
   "cell_type": "code",
   "execution_count": null,
   "metadata": {},
   "outputs": [],
   "source": []
  }
 ],
 "metadata": {
  "kernelspec": {
   "display_name": "venv",
   "language": "python",
   "name": "python3"
  },
  "language_info": {
   "codemirror_mode": {
    "name": "ipython",
    "version": 3
   },
   "file_extension": ".py",
   "mimetype": "text/x-python",
   "name": "python",
   "nbconvert_exporter": "python",
   "pygments_lexer": "ipython3",
   "version": "3.10.14"
  }
 },
 "nbformat": 4,
 "nbformat_minor": 2
}
